{
 "cells": [
  {
   "cell_type": "code",
   "execution_count": null,
   "metadata": {},
   "outputs": [],
   "source": [
    "# Warning control\n",
    "import warnings\n",
    "warnings.filterwarnings('ignore')\n",
    "\n",
    "# Load environment variables\n",
    "from dotenv import load_dotenv \n",
    "load_dotenv()\n",
    "import yaml\n",
    "import os\n",
    "from crewai import Agent, Task, Crew"
   ]
  },
  {
   "cell_type": "code",
   "execution_count": null,
   "metadata": {},
   "outputs": [],
   "source": [
    "# Define file paths for YAML configurations\n",
    "files = {\n",
    "    'agents': r'src\\portfolio_assistant\\config\\agents.yaml',\n",
    "    'tasks': r'src\\portfolio_assistant\\config\\tasks.yaml'\n",
    "}\n",
    "\n",
    "# Load configurations from YAML files\n",
    "configs = {}\n",
    "for config_type, file_path in files.items():\n",
    "    with open(file_path, 'r') as file:\n",
    "        configs[config_type] = yaml.safe_load(file)\n",
    "\n",
    "# Assign loaded configurations to specific variables\n",
    "agents_config = configs['agents']\n",
    "tasks_config = configs['tasks']"
   ]
  },
  {
   "cell_type": "code",
   "execution_count": null,
   "metadata": {},
   "outputs": [],
   "source": [
    "agents_config"
   ]
  },
  {
   "cell_type": "code",
   "execution_count": null,
   "metadata": {},
   "outputs": [],
   "source": [
    "tasks_config"
   ]
  },
  {
   "cell_type": "code",
   "execution_count": null,
   "metadata": {},
   "outputs": [],
   "source": [
    "from pydantic import BaseModel\n",
    "from typing import List\n",
    "\n",
    "class WorkExperience(BaseModel):\n",
    "    job_title: str\n",
    "    company: str\n",
    "    start_date: str\n",
    "    end_date: str\n",
    "    description: str\n",
    "\n",
    "\n",
    "class Education(BaseModel):\n",
    "    degree: str\n",
    "    institution: str\n",
    "    graduation_year: str\n",
    "\n",
    "\n",
    "class Project(BaseModel):\n",
    "    name: str\n",
    "    description: str\n",
    "    technologies: List[str]\n",
    "\n",
    "\n",
    "class Certification(BaseModel):\n",
    "    name: str\n",
    "    issuing_organization: str\n",
    "\n",
    "\n",
    "class CVInfo(BaseModel):\n",
    "    work_experience: List[WorkExperience]\n",
    "    education: List[Education]\n",
    "    skills: List[str]\n",
    "    projects: List[Project]\n",
    "    certifications: List[Certification]\n",
    "\n",
    "\n",
    "class CVReference(BaseModel):\n",
    "    section: str  # Example: \"work_experience\", \"skills\", \"education\"\n",
    "    details: str  # Summary of relevant data from `CVInfo`\n",
    "\n",
    "\n",
    "class VisitorResponse(BaseModel):\n",
    "    question: str\n",
    "    answer: str\n",
    "    references: List[CVReference]  # Where the answer is derived from"
   ]
  },
  {
   "cell_type": "code",
   "execution_count": null,
   "metadata": {},
   "outputs": [],
   "source": [
    "from crewai_tools import PDFSearchTool\n",
    "pdf_search_tool = PDFSearchTool(pdf=\"knowledge/CV_Assia_Chafi_2025.pdf\")\n",
    "pdf_search_tool.description = \"Search the CV PDF with a text query to find relevant information\"\n",
    "# Now create your agents\n",
    "from crewai import Agent, Task\n",
    "researcher = Agent(config=agents_config[\"resume_assistant\"], verbose=True)\n",
    "reporting_analyst = Agent(config=agents_config[\"reporting_analyst\"], verbose=True)\n",
    "\n",
    "research_task = Task(\n",
    "    description=tasks_config[\"extract_cv_info\"][\"description\"],\n",
    "    expected_output=tasks_config[\"extract_cv_info\"]['expected_output'],\n",
    "    output_pydantic=CVInfo,\n",
    "    tools=[pdf_search_tool],\n",
    "    agent = researcher\n",
    ")\n",
    "\n",
    "reporting_task = Task(\n",
    "    description=tasks_config[\"reporting_task\"]['description'],\n",
    "    expected_output=tasks_config[\"reporting_task\"]['expected_output'],\n",
    "    output_pydantic=VisitorResponse,\n",
    "    output_file=\"report.md\",\n",
    "    agent=reporting_analyst\n",
    ")"
   ]
  },
  {
   "cell_type": "code",
   "execution_count": null,
   "metadata": {},
   "outputs": [],
   "source": [
    "# Creating Crew\n",
    "crew = Crew(\n",
    "  agents=[\n",
    "    researcher,\n",
    "    reporting_analyst\n",
    "  ],\n",
    "  tasks=[\n",
    "    research_task,\n",
    "    reporting_task\n",
    "  ],\n",
    "  verbose=True\n",
    ")"
   ]
  },
  {
   "cell_type": "code",
   "execution_count": null,
   "metadata": {},
   "outputs": [],
   "source": [
    "crew"
   ]
  },
  {
   "cell_type": "code",
   "execution_count": null,
   "metadata": {},
   "outputs": [],
   "source": [
    "# The given Python dictionary\n",
    "inputs = {\n",
    "  'question': \"What are your main skills?\",\n",
    "}\n",
    "\n",
    "# Run the crew\n",
    "result = crew.kickoff(\n",
    "  inputs=inputs\n",
    ")"
   ]
  },
  {
   "cell_type": "code",
   "execution_count": null,
   "metadata": {},
   "outputs": [],
   "source": [
    "result['answer']\n"
   ]
  },
  {
   "cell_type": "code",
   "execution_count": null,
   "metadata": {},
   "outputs": [],
   "source": []
  }
 ],
 "metadata": {
  "kernelspec": {
   "display_name": ".venv",
   "language": "python",
   "name": "python3"
  },
  "language_info": {
   "codemirror_mode": {
    "name": "ipython",
    "version": 3
   },
   "file_extension": ".py",
   "mimetype": "text/x-python",
   "name": "python",
   "nbconvert_exporter": "python",
   "pygments_lexer": "ipython3",
   "version": "3.11.0"
  }
 },
 "nbformat": 4,
 "nbformat_minor": 2
}
